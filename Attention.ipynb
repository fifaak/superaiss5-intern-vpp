{
 "cells": [
  {
   "cell_type": "markdown",
   "id": "103fd61c",
   "metadata": {},
   "source": [
    "## Load data"
   ]
  },
  {
   "cell_type": "code",
   "execution_count": null,
   "id": "4aa5adeb",
   "metadata": {},
   "outputs": [],
   "source": [
    "%conda install conda-forge::pytorch"
   ]
  },
  {
   "cell_type": "code",
   "execution_count": null,
   "id": "e9c30f60",
   "metadata": {},
   "outputs": [],
   "source": [
    "%pip install torch_geometric\n",
    "%pip install pyg_lib torch_scatter torch_sparse torch_cluster torch_spline_conv -f https://data.pyg.org/whl/torch-2.7.0+cu128.html"
   ]
  },
  {
   "cell_type": "code",
   "execution_count": 2,
   "id": "a2d4aca1",
   "metadata": {},
   "outputs": [
    {
     "name": "stdout",
     "output_type": "stream",
     "text": [
      "12.8\n"
     ]
    }
   ],
   "source": [
    "import torch; print(torch.version.cuda)"
   ]
  },
  {
   "cell_type": "code",
   "execution_count": 1,
   "id": "3df29d50",
   "metadata": {},
   "outputs": [
    {
     "ename": "ModuleNotFoundError",
     "evalue": "No module named 'pandas'",
     "output_type": "error",
     "traceback": [
      "\u001b[31m---------------------------------------------------------------------------\u001b[39m",
      "\u001b[31mModuleNotFoundError\u001b[39m                       Traceback (most recent call last)",
      "\u001b[36mCell\u001b[39m\u001b[36m \u001b[39m\u001b[32mIn[1]\u001b[39m\u001b[32m, line 1\u001b[39m\n\u001b[32m----> \u001b[39m\u001b[32m1\u001b[39m \u001b[38;5;28;01mfrom\u001b[39;00m\u001b[38;5;250m \u001b[39m\u001b[34;01mutils\u001b[39;00m\u001b[34;01m.\u001b[39;00m\u001b[34;01mconcatenate_data\u001b[39;00m\u001b[38;5;250m \u001b[39m\u001b[38;5;28;01mimport\u001b[39;00m run_pipeline\n\u001b[32m      3\u001b[39m all_data_df, long_df = run_pipeline(\n\u001b[32m      4\u001b[39m     root_xlsx_dir=\u001b[33m\"\u001b[39m\u001b[33mLoad-data\u001b[39m\u001b[33m\"\u001b[39m,\n\u001b[32m      5\u001b[39m     cleaned_csv_dir=\u001b[33m\"\u001b[39m\u001b[33mcleaned_data\u001b[39m\u001b[33m\"\u001b[39m,\n\u001b[32m   (...)\u001b[39m\u001b[32m      8\u001b[39m     final_long_csv=\u001b[33m\"\u001b[39m\u001b[33mall_data_timeseries.csv\u001b[39m\u001b[33m\"\u001b[39m,\n\u001b[32m      9\u001b[39m )\n\u001b[32m     11\u001b[39m display(all_data_df.head())\n",
      "\u001b[36mFile \u001b[39m\u001b[32mc:\\Users\\patar\\Documents\\superai-intern\\superaiss5-intern-vpp\\utils\\concatenate_data.py:3\u001b[39m\n\u001b[32m      1\u001b[39m \u001b[38;5;28;01mimport\u001b[39;00m\u001b[38;5;250m \u001b[39m\u001b[34;01mos\u001b[39;00m\n\u001b[32m      2\u001b[39m \u001b[38;5;28;01mimport\u001b[39;00m\u001b[38;5;250m \u001b[39m\u001b[34;01mre\u001b[39;00m\n\u001b[32m----> \u001b[39m\u001b[32m3\u001b[39m \u001b[38;5;28;01mimport\u001b[39;00m\u001b[38;5;250m \u001b[39m\u001b[34;01mpandas\u001b[39;00m\u001b[38;5;250m \u001b[39m\u001b[38;5;28;01mas\u001b[39;00m\u001b[38;5;250m \u001b[39m\u001b[34;01mpd\u001b[39;00m\n\u001b[32m      4\u001b[39m \u001b[38;5;28;01mfrom\u001b[39;00m\u001b[38;5;250m \u001b[39m\u001b[34;01mdatetime\u001b[39;00m\u001b[38;5;250m \u001b[39m\u001b[38;5;28;01mimport\u001b[39;00m datetime\n\u001b[32m      6\u001b[39m \u001b[38;5;28;01mdef\u001b[39;00m\u001b[38;5;250m \u001b[39m\u001b[34mclean_header_and_drop_unused_rows\u001b[39m(tmp_df):\n",
      "\u001b[31mModuleNotFoundError\u001b[39m: No module named 'pandas'"
     ]
    }
   ],
   "source": [
    "from utils.concatenate_data import run_pipeline\n",
    "\n",
    "all_data_df, long_df = run_pipeline(\n",
    "    root_xlsx_dir=\"Load-data\",\n",
    "    cleaned_csv_dir=\"cleaned_data\",\n",
    "    preprocessed_csv_dir=\"preprocessed_data\",\n",
    "    final_wide_csv=\"all_data_df.csv\",\n",
    "    final_long_csv=\"all_data_timeseries.csv\",\n",
    ")\n",
    "\n",
    "display(all_data_df.head())\n",
    "display(long_df.head())\n"
   ]
  }
 ],
 "metadata": {
  "kernelspec": {
   "display_name": "superai-intern-lab",
   "language": "python",
   "name": "python3"
  },
  "language_info": {
   "codemirror_mode": {
    "name": "ipython",
    "version": 3
   },
   "file_extension": ".py",
   "mimetype": "text/x-python",
   "name": "python",
   "nbconvert_exporter": "python",
   "pygments_lexer": "ipython3",
   "version": "3.11.10"
  }
 },
 "nbformat": 4,
 "nbformat_minor": 5
}
