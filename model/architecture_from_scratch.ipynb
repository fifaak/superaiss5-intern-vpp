{
 "cells": [
  {
   "cell_type": "markdown",
   "id": "c928c4bc",
   "metadata": {},
   "source": [
    "### Create Graph Data"
   ]
  },
  {
   "cell_type": "code",
   "execution_count": null,
   "id": "1471ad20",
   "metadata": {},
   "outputs": [],
   "source": []
  }
 ],
 "metadata": {
  "kernelspec": {
   "display_name": "superai-intern-lab",
   "language": "python",
   "name": "python3"
  },
  "language_info": {
   "name": "python",
   "version": "3.11.10"
  }
 },
 "nbformat": 4,
 "nbformat_minor": 5
}
